{
 "cells": [
  {
   "cell_type": "markdown",
   "metadata": {
    "collapsed": true,
    "deletable": true,
    "editable": true
   },
   "source": [
    "# Image Classification\n",
    "In this project, you'll classify images from the [CIFAR-10 dataset](https://www.cs.toronto.edu/~kriz/cifar.html).  The dataset consists of airplanes, dogs, cats, and other objects. You'll preprocess the images, then train a convolutional neural network on all the samples. The images need to be normalized and the labels need to be one-hot encoded.  You'll get to apply what you learned and build a convolutional, max pooling, dropout, and fully connected layers.  At the end, you'll get to see your neural network's predictions on the sample images.\n",
    "## Get the Data\n",
    "Run the following cell to download the [CIFAR-10 dataset for python](https://www.cs.toronto.edu/~kriz/cifar-10-python.tar.gz)."
   ]
  },
  {
   "cell_type": "code",
   "execution_count": 1,
   "metadata": {
    "collapsed": false,
    "deletable": true,
    "editable": true
   },
   "outputs": [
    {
     "name": "stdout",
     "output_type": "stream",
     "text": [
      "All files found!\n"
     ]
    }
   ],
   "source": [
    "\"\"\"\n",
    "DON'T MODIFY ANYTHING IN THIS CELL THAT IS BELOW THIS LINE\n",
    "\"\"\"\n",
    "from urllib.request import urlretrieve\n",
    "from os.path import isfile, isdir\n",
    "from tqdm import tqdm\n",
    "import problem_unittests as tests\n",
    "import tarfile\n",
    "\n",
    "cifar10_dataset_folder_path = 'cifar-10-batches-py'\n",
    "\n",
    "class DLProgress(tqdm):\n",
    "    last_block = 0\n",
    "\n",
    "    def hook(self, block_num=1, block_size=1, total_size=None):\n",
    "        self.total = total_size\n",
    "        self.update((block_num - self.last_block) * block_size)\n",
    "        self.last_block = block_num\n",
    "\n",
    "if not isfile('cifar-10-python.tar.gz'):\n",
    "    with DLProgress(unit='B', unit_scale=True, miniters=1, desc='CIFAR-10 Dataset') as pbar:\n",
    "        urlretrieve(\n",
    "            'https://www.cs.toronto.edu/~kriz/cifar-10-python.tar.gz',\n",
    "            'cifar-10-python.tar.gz',\n",
    "            pbar.hook)\n",
    "\n",
    "if not isdir(cifar10_dataset_folder_path):\n",
    "    with tarfile.open('cifar-10-python.tar.gz') as tar:\n",
    "        tar.extractall()\n",
    "        tar.close()\n",
    "\n",
    "\n",
    "tests.test_folder_path(cifar10_dataset_folder_path)"
   ]
  },
  {
   "cell_type": "markdown",
   "metadata": {
    "deletable": true,
    "editable": true
   },
   "source": [
    "## Explore the Data\n",
    "The dataset is broken into batches to prevent your machine from running out of memory.  The CIFAR-10 dataset consists of 5 batches, named `data_batch_1`, `data_batch_2`, etc.. Each batch contains the labels and images that are one of the following:\n",
    "* airplane\n",
    "* automobile\n",
    "* bird\n",
    "* cat\n",
    "* deer\n",
    "* dog\n",
    "* frog\n",
    "* horse\n",
    "* ship\n",
    "* truck\n",
    "\n",
    "Understanding a dataset is part of making predictions on the data.  Play around with the code cell below by changing the `batch_id` and `sample_id`. The `batch_id` is the id for a batch (1-5). The `sample_id` is the id for a image and label pair in the batch.\n",
    "\n",
    "Ask yourself \"What are all possible labels?\", \"What is the range of values for the image data?\", \"Are the labels in order or random?\".  Answers to questions like these will help you preprocess the data and end up with better predictions."
   ]
  },
  {
   "cell_type": "code",
   "execution_count": 2,
   "metadata": {
    "collapsed": false,
    "deletable": true,
    "editable": true
   },
   "outputs": [
    {
     "name": "stdout",
     "output_type": "stream",
     "text": [
      "\n",
      "Stats of batch 2:\n",
      "Samples: 10000\n",
      "Label Counts: {0: 984, 1: 1007, 2: 1010, 3: 995, 4: 1010, 5: 988, 6: 1008, 7: 1026, 8: 987, 9: 985}\n",
      "First 20 Labels: [1, 6, 6, 8, 8, 3, 4, 6, 0, 6, 0, 3, 6, 6, 5, 4, 8, 3, 2, 6]\n",
      "\n",
      "Example of Image 71:\n",
      "Image - Min Value: 0 Max Value: 253\n",
      "Image - Shape: (32, 32, 3)\n",
      "Label - Label Id: 9 Name: truck\n"
     ]
    },
    {
     "data": {
      "image/png": "[encoded data removed]",
      "text/plain": [
       "<matplotlib.figure.Figure at 0x7f6720393198>"
      ]
     },
     "metadata": {
      "image/png": {
       "height": 250,
       "width": 253
      }
     },
     "output_type": "display_data"
    }
   ],
   "source": [
    "%matplotlib inline\n",
    "%config InlineBackend.figure_format = 'retina'\n",
    "\n",
    "import helper\n",
    "import numpy as np\n",
    "\n",
    "# Explore the dataset\n",
    "batch_id = 2\n",
    "sample_id = 71\n",
    "helper.display_stats(cifar10_dataset_folder_path, batch_id, sample_id)"
   ]
  },
  {
   "cell_type": "markdown",
   "metadata": {
    "deletable": true,
    "editable": true
   },
   "source": [
    "## Implement Preprocess Functions\n",
    "### Normalize\n",
    "In the cell below, implement the `normalize` function to take in image data, `x`, and return it as a normalized Numpy array. The values should be in the range of 0 to 1, inclusive.  The return object should be the same shape as `x`."
   ]
  },
  {
   "cell_type": "code",
   "execution_count": 3,
   "metadata": {
    "collapsed": false,
    "deletable": true,
    "editable": true
   },
   "outputs": [
    {
     "name": "stdout",
     "output_type": "stream",
     "text": [
      "Tests Passed\n"
     ]
    }
   ],
   "source": [
    "def normalize(x):\n",
    "    \"\"\"\n",
    "    Normalize a list of sample image data in the range of 0 to 1\n",
    "    : x: List of image data.  The image shape is (32, 32, 3)\n",
    "    : return: Numpy array of normalize data\n",
    "    \"\"\"\n",
    "    # TODO: Implement Function\n",
    "    mean_x=x.mean()\n",
    "    std_x=x.std()\n",
    "    #norm_x=(x-mean_x)/(x)\n",
    "    norm_x=x/255\n",
    "    return norm_x\n",
    "\n",
    "\n",
    "\"\"\"\n",
    "DON'T MODIFY ANYTHING IN THIS CELL THAT IS BELOW THIS LINE\n",
    "\"\"\"\n",
    "tests.test_normalize(normalize)"
   ]
  },
  {
   "cell_type": "code",
   "execution_count": null,
   "metadata": {
    "collapsed": false,
    "deletable": true,
    "editable": true
   },
   "outputs": [],
   "source": []
  },
  {
   "cell_type": "markdown",
   "metadata": {
    "deletable": true,
    "editable": true
   },
   "source": [
    "### One-hot encode\n",
    "Just like the previous code cell, you'll be implementing a function for preprocessing.  This time, you'll implement the `one_hot_encode` function. The input, `x`, are a list of labels.  Implement the function to return the list of labels as One-Hot encoded Numpy array.  The possible values for labels are 0 to 9. The one-hot encoding function should return the same encoding for each value between each call to `one_hot_encode`.  Make sure to save the map of encodings outside the function.\n",
    "\n",
    "Hint: Don't reinvent the wheel."
   ]
  },
  {
   "cell_type": "code",
   "execution_count": 4,
   "metadata": {
    "collapsed": false,
    "deletable": true,
    "editable": true
   },
   "outputs": [],
   "source": [
    "from sklearn import preprocessing"
   ]
  },
  {
   "cell_type": "code",
   "execution_count": 5,
   "metadata": {
    "collapsed": false,
    "deletable": true,
    "editable": true
   },
   "outputs": [
    {
     "name": "stdout",
     "output_type": "stream",
     "text": [
      "Tests Passed\n"
     ]
    }
   ],
   "source": [
    "def one_hot_encode(x):\n",
    "    \"\"\"\n",
    "    One hot encode a list of sample labels. Return a one-hot encoded vector for each label.\n",
    "    : x: List of sample Labels\n",
    "    : return: Numpy array of one-hot encoded labels\n",
    "    \"\"\"\n",
    "    # TODO: Implement Function\n",
    "    \n",
    "    one_hot=preprocessing.label_binarize(x,range(10))\n",
    "    return one_hot\n",
    "\n",
    "\n",
    "\"\"\"\n",
    "DON'T MODIFY ANYTHING IN THIS CELL THAT IS BELOW THIS LINE\n",
    "\"\"\"\n",
    "tests.test_one_hot_encode(one_hot_encode)"
   ]
  },
  {
   "cell_type": "markdown",
   "metadata": {
    "deletable": true,
    "editable": true
   },
   "source": [
    "### Randomize Data\n",
    "As you saw from exploring the data above, the order of the samples are randomized.  It doesn't hurt to randomize it again, but you don't need to for this dataset."
   ]
  },
  {
   "cell_type": "markdown",
   "metadata": {
    "deletable": true,
    "editable": true
   },
   "source": [
    "## Preprocess all the data and save it\n",
    "Running the code cell below will preprocess all the CIFAR-10 data and save it to file. The code below also uses 10% of the training data for validation."
   ]
  },
  {
   "cell_type": "code",
   "execution_count": 6,
   "metadata": {
    "collapsed": false,
    "deletable": true,
    "editable": true
   },
   "outputs": [],
   "source": [
    "\"\"\"\n",
    "DON'T MODIFY ANYTHING IN THIS CELL\n",
    "\"\"\"\n",
    "# Preprocess Training, Validation, and Testing Data\n",
    "helper.preprocess_and_save_data(cifar10_dataset_folder_path, normalize, one_hot_encode)"
   ]
  },
  {
   "cell_type": "markdown",
   "metadata": {
    "deletable": true,
    "editable": true
   },
   "source": [
    "# Check Point\n",
    "This is your first checkpoint.  If you ever decide to come back to this notebook or have to restart the notebook, you can start from here.  The preprocessed data has been saved to disk."
   ]
  },
  {
   "cell_type": "code",
   "execution_count": 7,
   "metadata": {
    "collapsed": true,
    "deletable": true,
    "editable": true
   },
   "outputs": [],
   "source": [
    "\"\"\"\n",
    "DON'T MODIFY ANYTHING IN THIS CELL\n",
    "\"\"\"\n",
    "import pickle\n",
    "import problem_unittests as tests\n",
    "import helper\n",
    "\n",
    "# Load the Preprocessed Validation data\n",
    "valid_features, valid_labels = pickle.load(open('preprocess_validation.p', mode='rb'))"
   ]
  },
  {
   "cell_type": "markdown",
   "metadata": {
    "deletable": true,
    "editable": true
   },
   "source": [
    "## Build the network\n",
    "For the neural network, you'll build each layer into a function.  Most of the code you've seen has been outside of functions. To test your code more thoroughly, we require that you put each layer in a function.  This allows us to give you better feedback and test for simple mistakes using our unittests before you submit your project.\n",
    "\n",
    ">**Note:** If you're finding it hard to dedicate enough time for this course each week, we've provided a small shortcut to this part of the project. In the next couple of problems, you'll have the option to use classes from the [TensorFlow Layers](https://www.tensorflow.org/api_docs/python/tf/layers) or [TensorFlow Layers (contrib)](https://www.tensorflow.org/api_guides/python/contrib.layers) packages to build each layer, except the layers you build in the \"Convolutional and Max Pooling Layer\" section.  TF Layers is similar to Keras's and TFLearn's abstraction to layers, so it's easy to pickup.\n",
    "\n",
    ">However, if you would like to get the most out of this course, try to solve all the problems _without_ using anything from the TF Layers packages. You **can** still use classes from other packages that happen to have the same name as ones you find in TF Layers! For example, instead of using the TF Layers version of the `conv2d` class, [tf.layers.conv2d](https://www.tensorflow.org/api_docs/python/tf/layers/conv2d), you would want to use the TF Neural Network version of `conv2d`, [tf.nn.conv2d](https://www.tensorflow.org/api_docs/python/tf/nn/conv2d). \n",
    "\n",
    "Let's begin!\n",
    "\n",
    "### Input\n",
    "The neural network needs to read the image data, one-hot encoded labels, and dropout keep probability. Implement the following functions\n",
    "* Implement `neural_net_image_input`\n",
    " * Return a [TF Placeholder](https://www.tensorflow.org/api_docs/python/tf/placeholder)\n",
    " * Set the shape using `image_shape` with batch size set to `None`.\n",
    " * Name the TensorFlow placeholder \"x\" using the TensorFlow `name` parameter in the [TF Placeholder](https://www.tensorflow.org/api_docs/python/tf/placeholder).\n",
    "* Implement `neural_net_label_input`\n",
    " * Return a [TF Placeholder](https://www.tensorflow.org/api_docs/python/tf/placeholder)\n",
    " * Set the shape using `n_classes` with batch size set to `None`.\n",
    " * Name the TensorFlow placeholder \"y\" using the TensorFlow `name` parameter in the [TF Placeholder](https://www.tensorflow.org/api_docs/python/tf/placeholder).\n",
    "* Implement `neural_net_keep_prob_input`\n",
    " * Return a [TF Placeholder](https://www.tensorflow.org/api_docs/python/tf/placeholder) for dropout keep probability.\n",
    " * Name the TensorFlow placeholder \"keep_prob\" using the TensorFlow `name` parameter in the [TF Placeholder](https://www.tensorflow.org/api_docs/python/tf/placeholder).\n",
    "\n",
    "These names will be used at the end of the project to load your saved model.\n",
    "\n",
    "Note: `None` for shapes in TensorFlow allow for a dynamic size."
   ]
  },
  {
   "cell_type": "code",
   "execution_count": null,
   "metadata": {
    "collapsed": false,
    "deletable": true,
    "editable": true
   },
   "outputs": [],
   "source": []
  },
  {
   "cell_type": "code",
   "execution_count": 8,
   "metadata": {
    "collapsed": false,
    "deletable": true,
    "editable": true
   },
   "outputs": [
    {
     "name": "stdout",
     "output_type": "stream",
     "text": [
      "Image Input Tests Passed.\n",
      "Label Input Tests Passed.\n",
      "Keep Prob Tests Passed.\n"
     ]
    }
   ],
   "source": [
    "import tensorflow as tf\n",
    "\n",
    "def neural_net_image_input(image_shape):\n",
    "    \"\"\"\n",
    "    Return a Tensor for a bach of image input\n",
    "    : image_shape: Shape of the images\n",
    "    : return: Tensor for image input.\n",
    "    \"\"\"\n",
    "    # TODO: Implement Function\n",
    "    x=tf.placeholder(tf.float32,[None]+list(image_shape),name='x')\n",
    "    return x\n",
    "\n",
    "\n",
    "def neural_net_label_input(n_classes):\n",
    "    \"\"\"\n",
    "    Return a Tensor for a batch of label input\n",
    "    : n_classes: Number of classes\n",
    "    : return: Tensor for label input.\n",
    "    \"\"\"\n",
    "    # TODO: Implement Function\n",
    "    y=tf.placeholder(tf.float32,[None,n_classes],name='y')\n",
    "    return y\n",
    "\n",
    "\n",
    "def neural_net_keep_prob_input():\n",
    "    \"\"\"\n",
    "    Return a Tensor for keep probability\n",
    "    : return: Tensor for keep probability.\n",
    "    \"\"\"\n",
    "    # TODO: Implement Function\n",
    "    keep_prob=tf.placeholder(tf.float32,name='keep_prob')\n",
    "    return keep_prob\n",
    "\n",
    "\n",
    "\"\"\"\n",
    "DON'T MODIFY ANYTHING IN THIS CELL THAT IS BELOW THIS LINE\n",
    "\"\"\"\n",
    "tf.reset_default_graph()\n",
    "tests.test_nn_image_inputs(neural_net_image_input)\n",
    "tests.test_nn_label_inputs(neural_net_label_input)\n",
    "tests.test_nn_keep_prob_inputs(neural_net_keep_prob_input)"
   ]
  },
  {
   "cell_type": "markdown",
   "metadata": {
    "deletable": true,
    "editable": true
   },
   "source": [
    "### Convolution and Max Pooling Layer\n",
    "Convolution layers have a lot of success with images. For this code cell, you should implement the function `conv2d_maxpool` to apply convolution then max pooling:\n",
    "* Create the weight and bias using `conv_ksize`, `conv_num_outputs` and the shape of `x_tensor`.\n",
    "* Apply a convolution to `x_tensor` using weight and `conv_strides`.\n",
    " * We recommend you use same padding, but you're welcome to use any padding.\n",
    "* Add bias\n",
    "* Add a nonlinear activation to the convolution.\n",
    "* Apply Max Pooling using `pool_ksize` and `pool_strides`.\n",
    " * We recommend you use same padding, but you're welcome to use any padding.\n",
    "\n",
    "**Note:** You **can't** use [TensorFlow Layers](https://www.tensorflow.org/api_docs/python/tf/layers) or [TensorFlow Layers (contrib)](https://www.tensorflow.org/api_guides/python/contrib.layers) for **this** layer, but you can still use TensorFlow's [Neural Network](https://www.tensorflow.org/api_docs/python/tf/nn) package. You may still use the shortcut option for all the **other** layers."
   ]
  },
  {
   "cell_type": "code",
   "execution_count": null,
   "metadata": {
    "collapsed": false,
    "deletable": true,
    "editable": true
   },
   "outputs": [],
   "source": []
  },
  {
   "cell_type": "code",
   "execution_count": 9,
   "metadata": {
    "collapsed": false,
    "deletable": true,
    "editable": true
   },
   "outputs": [
    {
     "name": "stdout",
     "output_type": "stream",
     "text": [
      "Tests Passed\n"
     ]
    }
   ],
   "source": [
    "def conv2d_maxpool(x_tensor, conv_num_outputs, conv_ksize, conv_strides, pool_ksize, pool_strides):\n",
    "    \"\"\"\n",
    "    Apply convolution then max pooling to x_tensor\n",
    "    :param x_tensor: TensorFlow Tensor\n",
    "    :param conv_num_outputs: Number of outputs for the convolutional layer\n",
    "    :param conv_ksize: kernal size 2-D Tuple for the convolutional layer\n",
    "    :param conv_strides: Stride 2-D Tuple for convolution\n",
    "    :param pool_ksize: kernal size 2-D Tuple for pool\n",
    "    :param pool_strides: Stride 2-D Tuple for pool\n",
    "    : return: A tensor that represents convolution and max pooling of x_tensor\n",
    "    \"\"\"\n",
    "    # TODO: Implement Function\n",
    "    fil_h,fil_w=conv_ksize\n",
    "    im_no,im_h,im_w,im_d=x_tensor.get_shape().as_list()\n",
    "    \n",
    "    weights=tf.Variable(tf.random_normal(list(conv_ksize)+[im_d]+[conv_num_outputs],mean=0.0, stddev=0.1),dtype=tf.float32)\n",
    "    bias=tf.Variable(tf.random_normal([conv_num_outputs]),dtype=tf.float32)\n",
    "    conv_layer=tf.nn.conv2d(x_tensor,weights,strides=[1]+list(conv_strides)+[1],padding='SAME')\n",
    "    conv_layer=tf.nn.bias_add(conv_layer,bias)\n",
    "    conv_layer=tf.nn.relu(conv_layer)\n",
    "    conv_layer=tf.nn.max_pool(conv_layer,ksize=[1]+list(pool_ksize)+[1],strides=[1]+list(pool_strides)+[1],padding='SAME')\n",
    "    return conv_layer\n",
    "\n",
    "\n",
    "\"\"\"\n",
    "DON'T MODIFY ANYTHING IN THIS CELL THAT IS BELOW THIS LINE\n",
    "\"\"\"\n",
    "tests.test_con_pool(conv2d_maxpool)"
   ]
  },
  {
   "cell_type": "markdown",
   "metadata": {
    "deletable": true,
    "editable": true
   },
   "source": [
    "### Flatten Layer\n",
    "Implement the `flatten` function to change the dimension of `x_tensor` from a 4-D tensor to a 2-D tensor.  The output should be the shape (*Batch Size*, *Flattened Image Size*). Shortcut option: you can use classes from the [TensorFlow Layers](https://www.tensorflow.org/api_docs/python/tf/layers) or [TensorFlow Layers (contrib)](https://www.tensorflow.org/api_guides/python/contrib.layers) packages for this layer. For more of a challenge, only use other TensorFlow packages."
   ]
  },
  {
   "cell_type": "code",
   "execution_count": 10,
   "metadata": {
    "collapsed": false,
    "deletable": true,
    "editable": true
   },
   "outputs": [
    {
     "name": "stdout",
     "output_type": "stream",
     "text": [
      "Tests Passed\n"
     ]
    }
   ],
   "source": [
    "def flatten(x_tensor):\n",
    "    \"\"\"\n",
    "    Flatten x_tensor to (Batch Size, Flattened Image Size)\n",
    "    : x_tensor: A tensor of size (Batch Size, ...), where ... are the image dimensions.\n",
    "    : return: A tensor of size (Batch Size, Flattened Image Size).\n",
    "    \"\"\"\n",
    "    # TODO: Implement Function\n",
    "    im_no,im_h,im_w,im_d=x_tensor.get_shape().as_list()\n",
    "    im_no1 = x_tensor.get_shape()[-1]\n",
    "    x_out=tf.reshape(x_tensor,[-1,im_h*im_w*im_d])\n",
    "    return x_out\n",
    "\n",
    "\n",
    "\"\"\"\n",
    "DON'T MODIFY ANYTHING IN THIS CELL THAT IS BELOW THIS LINE\n",
    "\"\"\"\n",
    "tests.test_flatten(flatten)"
   ]
  },
  {
   "cell_type": "markdown",
   "metadata": {
    "deletable": true,
    "editable": true
   },
   "source": [
    "### Fully-Connected Layer\n",
    "Implement the `fully_conn` function to apply a fully connected layer to `x_tensor` with the shape (*Batch Size*, *num_outputs*). Shortcut option: you can use classes from the [TensorFlow Layers](https://www.tensorflow.org/api_docs/python/tf/layers) or [TensorFlow Layers (contrib)](https://www.tensorflow.org/api_guides/python/contrib.layers) packages for this layer. For more of a challenge, only use other TensorFlow packages."
   ]
  },
  {
   "cell_type": "code",
   "execution_count": 11,
   "metadata": {
    "collapsed": false,
    "deletable": true,
    "editable": true
   },
   "outputs": [
    {
     "name": "stdout",
     "output_type": "stream",
     "text": [
      "Tests Passed\n"
     ]
    }
   ],
   "source": [
    "def fully_conn(x_tensor, num_outputs):\n",
    "    \"\"\"\n",
    "    Apply a fully connected layer to x_tensor using weight and bias\n",
    "    : x_tensor: A 2-D tensor where the first dimension is batch size.\n",
    "    : num_outputs: The number of output that the new tensor should be.\n",
    "    : return: A 2-D tensor where the second dimension is num_outputs.\n",
    "    \"\"\"\n",
    "    # TODO: Implement Function\n",
    "    im_b=x_tensor.get_shape().as_list()[1]\n",
    "    weights=tf.Variable(tf.random_normal([im_b,num_outputs],mean=0.0, stddev=0.1),dtype=tf.float32)\n",
    "    bias=tf.Variable(tf.random_normal([num_outputs]),dtype=tf.float32)\n",
    "    x_out=tf.add(tf.matmul(x_tensor,weights),bias)\n",
    "    x_out=tf.nn.relu(x_out)\n",
    "    return x_out\n",
    "\n",
    "\n",
    "\"\"\"\n",
    "DON'T MODIFY ANYTHING IN THIS CELL THAT IS BELOW THIS LINE\n",
    "\"\"\"\n",
    "tests.test_fully_conn(fully_conn)"
   ]
  },
  {
   "cell_type": "markdown",
   "metadata": {
    "deletable": true,
    "editable": true
   },
   "source": [
    "### Output Layer\n",
    "Implement the `output` function to apply a fully connected layer to `x_tensor` with the shape (*Batch Size*, *num_outputs*). Shortcut option: you can use classes from the [TensorFlow Layers](https://www.tensorflow.org/api_docs/python/tf/layers) or [TensorFlow Layers (contrib)](https://www.tensorflow.org/api_guides/python/contrib.layers) packages for this layer. For more of a challenge, only use other TensorFlow packages.\n",
    "\n",
    "**Note:** Activation, softmax, or cross entropy should **not** be applied to this."
   ]
  },
  {
   "cell_type": "code",
   "execution_count": 12,
   "metadata": {
    "collapsed": false,
    "deletable": true,
    "editable": true
   },
   "outputs": [
    {
     "name": "stdout",
     "output_type": "stream",
     "text": [
      "Tests Passed\n"
     ]
    }
   ],
   "source": [
    "def output(x_tensor, num_outputs):\n",
    "    \"\"\"\n",
    "    Apply a output layer to x_tensor using weight and bias\n",
    "    : x_tensor: A 2-D tensor where the first dimension is batch size.\n",
    "    : num_outputs: The number of output that the new tensor should be.\n",
    "    : return: A 2-D tensor where the second dimension is num_outputs.\n",
    "    \"\"\"\n",
    "    # TODO: Implement Function\n",
    "    im_b=x_tensor.get_shape().as_list()[1]\n",
    "    weights=tf.Variable(tf.random_normal([im_b,num_outputs],mean=0.0, stddev=0.1),dtype=tf.float32,)\n",
    "    bias=tf.Variable(tf.random_normal([num_outputs]),dtype=tf.float32)\n",
    "    x_out=tf.add(tf.matmul(x_tensor,weights),bias)\n",
    "    return x_out\n",
    "\n",
    "\n",
    "\"\"\"\n",
    "DON'T MODIFY ANYTHING IN THIS CELL THAT IS BELOW THIS LINE\n",
    "\"\"\"\n",
    "tests.test_output(output)"
   ]
  },
  {
   "cell_type": "markdown",
   "metadata": {
    "deletable": true,
    "editable": true
   },
   "source": [
    "### Create Convolutional Model\n",
    "Implement the function `conv_net` to create a convolutional neural network model. The function takes in a batch of images, `x`, and outputs logits.  Use the layers you created above to create this model:\n",
    "\n",
    "* Apply 1, 2, or 3 Convolution and Max Pool layers\n",
    "* Apply a Flatten Layer\n",
    "* Apply 1, 2, or 3 Fully Connected Layers\n",
    "* Apply an Output Layer\n",
    "* Return the output\n",
    "* Apply [TensorFlow's Dropout](https://www.tensorflow.org/api_docs/python/tf/nn/dropout) to one or more layers in the model using `keep_prob`. "
   ]
  },
  {
   "cell_type": "code",
   "execution_count": 13,
   "metadata": {
    "collapsed": false,
    "deletable": true,
    "editable": true
   },
   "outputs": [
    {
     "name": "stdout",
     "output_type": "stream",
     "text": [
      "Neural Network Built!\n"
     ]
    }
   ],
   "source": [
    "def conv_net(x, keep_prob):\n",
    "    \"\"\"\n",
    "    Create a convolutional neural network model\n",
    "    : x: Placeholder tensor that holds image data.\n",
    "    : keep_prob: Placeholder tensor that hold dropout keep probability.\n",
    "    : return: Tensor that represents logits\n",
    "    \"\"\"\n",
    "    # TODO: Apply 1, 2, or 3 Convolution and Max Pool layers\n",
    "    #    Play around with different number of outputs, kernel size and stride\n",
    "    # Function Definition from Above:\n",
    "    conv_num_outputs=16\n",
    "    conv_ksize=(3,3)\n",
    "    conv_strides=(1,1)\n",
    "    pool_ksize=(2,2)\n",
    "    pool_strides=(2,2)\n",
    "    x_out=conv2d_maxpool(x, conv_num_outputs, conv_ksize, conv_strides, pool_ksize, pool_strides)\n",
    "    \n",
    "    x_out=tf.nn.dropout(x_out,keep_prob)\n",
    "    \n",
    "    conv_num_outputs=32\n",
    "    conv_ksize=(3,3)\n",
    "    conv_strides=(1,1)\n",
    "    pool_ksize=(2,2)\n",
    "    pool_strides=(2,2)\n",
    "    x_out=conv2d_maxpool(x, conv_num_outputs, conv_ksize, conv_strides, pool_ksize, pool_strides)\n",
    "    \n",
    "    \n",
    "\n",
    "    conv_num_outputs=64\n",
    "    conv_ksize=(3,3)\n",
    "    conv_strides=(2,2)\n",
    "    pool_ksize=(2,2)\n",
    "    pool_strides=(2,2)\n",
    "    x_out=conv2d_maxpool(x, conv_num_outputs, conv_ksize, conv_strides, pool_ksize, pool_strides)\n",
    "\n",
    "\n",
    "\n",
    "    # TODO: Apply a Flatten Layer\n",
    "    # Function Definition from Above:\n",
    "    x_flat=flatten(x_out)\n",
    "    \n",
    "\n",
    "    # TODO: Apply 1, 2, or 3 Fully Connected Layers\n",
    "    #    Play around with different number of outputs\n",
    "    # Function Definition from Above:\n",
    "    num_outputs=512\n",
    "    x_full=fully_conn(x_flat, num_outputs)\n",
    "    #x_full=tf.nn.dropout(x_full,keep_prob) \n",
    "    #x_full=fully_conn(x_full, num_outputs)\n",
    "    \n",
    "    \n",
    "    # TODO: Apply an Output Layer\n",
    "    #    Set this to the number of classes\n",
    "    # Function Definition from Above:\n",
    "    num_outputs=10\n",
    "    x_out=output(x_full, num_outputs)\n",
    "    x_out=tf.nn.dropout(x_out,keep_prob)\n",
    "    \n",
    "    \n",
    "    # TODO: return output\n",
    "    return x_out\n",
    "\n",
    "\n",
    "\"\"\"\n",
    "DON'T MODIFY ANYTHING IN THIS CELL THAT IS BELOW THIS LINE\n",
    "\"\"\"\n",
    "\n",
    "##############################\n",
    "## Build the Neural Network ##\n",
    "##############################\n",
    "\n",
    "# Remove previous weights, bias, inputs, etc..\n",
    "tf.reset_default_graph()\n",
    "\n",
    "# Inputs\n",
    "x = neural_net_image_input((32, 32, 3))\n",
    "y = neural_net_label_input(10)\n",
    "keep_prob = neural_net_keep_prob_input()\n",
    "\n",
    "# Model\n",
    "logits = conv_net(x, keep_prob)\n",
    "\n",
    "# Name logits Tensor, so that is can be loaded from disk after training\n",
    "logits = tf.identity(logits, name='logits')\n",
    "\n",
    "# Loss and Optimizer\n",
    "cost = tf.reduce_mean(tf.nn.softmax_cross_entropy_with_logits(logits=logits, labels=y))\n",
    "optimizer = tf.train.AdamOptimizer().minimize(cost)\n",
    "\n",
    "# Accuracy\n",
    "correct_pred = tf.equal(tf.argmax(logits, 1), tf.argmax(y, 1))\n",
    "accuracy = tf.reduce_mean(tf.cast(correct_pred, tf.float32), name='accuracy')\n",
    "\n",
    "tests.test_conv_net(conv_net)"
   ]
  },
  {
   "cell_type": "markdown",
   "metadata": {
    "deletable": true,
    "editable": true
   },
   "source": [
    "## Train the Neural Network\n",
    "### Single Optimization\n",
    "Implement the function `train_neural_network` to do a single optimization.  The optimization should use `optimizer` to optimize in `session` with a `feed_dict` of the following:\n",
    "* `x` for image input\n",
    "* `y` for labels\n",
    "* `keep_prob` for keep probability for dropout\n",
    "\n",
    "This function will be called for each batch, so `tf.global_variables_initializer()` has already been called.\n",
    "\n",
    "Note: Nothing needs to be returned. This function is only optimizing the neural network."
   ]
  },
  {
   "cell_type": "code",
   "execution_count": 14,
   "metadata": {
    "collapsed": false,
    "deletable": true,
    "editable": true
   },
   "outputs": [
    {
     "name": "stdout",
     "output_type": "stream",
     "text": [
      "Tests Passed\n"
     ]
    }
   ],
   "source": [
    "def train_neural_network(session, optimizer, keep_probability, feature_batch, label_batch):\n",
    "    \"\"\"\n",
    "    Optimize the session on a batch of images and labels\n",
    "    : session: Current TensorFlow session\n",
    "    : optimizer: TensorFlow optimizer function\n",
    "    : keep_probability: keep probability\n",
    "    : feature_batch: Batch of Numpy image data\n",
    "    : label_batch: Batch of Numpy label data\n",
    "    \"\"\"\n",
    "    \n",
    "    session.run(optimizer, feed_dict={x: feature_batch, y: label_batch, keep_prob: keep_probability})\n",
    "    pass\n",
    "\n",
    "\n",
    "\"\"\"\n",
    "DON'T MODIFY ANYTHING IN THIS CELL THAT IS BELOW THIS LINE\n",
    "\"\"\"\n",
    "tests.test_train_nn(train_neural_network)"
   ]
  },
  {
   "cell_type": "markdown",
   "metadata": {
    "deletable": true,
    "editable": true
   },
   "source": [
    "### Show Stats\n",
    "Implement the function `print_stats` to print loss and validation accuracy.  Use the global variables `valid_features` and `valid_labels` to calculate validation accuracy.  Use a keep probability of `1.0` to calculate the loss and validation accuracy."
   ]
  },
  {
   "cell_type": "code",
   "execution_count": 15,
   "metadata": {
    "collapsed": false,
    "deletable": true,
    "editable": true
   },
   "outputs": [],
   "source": [
    "def print_stats(session, feature_batch, label_batch, cost, accuracy):\n",
    "    \"\"\"\n",
    "    Print information about loss and validation accuracy\n",
    "    : session: Current TensorFlow session\n",
    "    : feature_batch: Batch of Numpy image data\n",
    "    : label_batch: Batch of Numpy label data\n",
    "    : cost: TensorFlow cost function\n",
    "    : accuracy: TensorFlow accuracy function\n",
    "    \"\"\"\n",
    "    loss = session.run(cost, feed_dict={\n",
    "            x: feature_batch,\n",
    "            y: label_batch,\n",
    "            keep_prob: 1.0})\n",
    "    \n",
    "    valid_acc = session.run(accuracy, feed_dict={\n",
    "            x: valid_features,\n",
    "            y: valid_labels,\n",
    "            keep_prob: 1.0})\n",
    "    \n",
    "    print('Testing Loss: {}'.format(loss))\n",
    "    print('Testing Accuracy: {}'.format(valid_acc))\n",
    "    pass"
   ]
  },
  {
   "cell_type": "markdown",
   "metadata": {
    "deletable": true,
    "editable": true
   },
   "source": [
    "### Hyperparameters\n",
    "Tune the following parameters:\n",
    "* Set `epochs` to the number of iterations until the network stops learning or start overfitting\n",
    "* Set `batch_size` to the highest number that your machine has memory for.  Most people set them to common sizes of memory:\n",
    " * 64\n",
    " * 128\n",
    " * 256\n",
    " * ...\n",
    "* Set `keep_probability` to the probability of keeping a node using dropout"
   ]
  },
  {
   "cell_type": "code",
   "execution_count": 16,
   "metadata": {
    "collapsed": true,
    "deletable": true,
    "editable": true
   },
   "outputs": [],
   "source": [
    "# TODO: Tune Parameters\n",
    "epochs = 50\n",
    "batch_size = 128\n",
    "keep_probability = 0.75"
   ]
  },
  {
   "cell_type": "markdown",
   "metadata": {
    "deletable": true,
    "editable": true
   },
   "source": [
    "### Train on a Single CIFAR-10 Batch\n",
    "Instead of training the neural network on all the CIFAR-10 batches of data, let's use a single batch. This should save time while you iterate on the model to get a better accuracy.  Once the final validation accuracy is 50% or greater, run the model on all the data in the next section."
   ]
  },
  {
   "cell_type": "code",
   "execution_count": 17,
   "metadata": {
    "collapsed": false,
    "deletable": true,
    "editable": true
   },
   "outputs": [
    {
     "name": "stdout",
     "output_type": "stream",
     "text": [
      "Checking the Training on a Single Batch...\n",
      "Epoch  1, CIFAR-10 Batch 1:  Testing Loss: 2.19874906539917\n",
      "Testing Accuracy: 0.23499999940395355\n",
      "Epoch  2, CIFAR-10 Batch 1:  Testing Loss: 2.0750629901885986\n",
      "Testing Accuracy: 0.28999996185302734\n",
      "Epoch  3, CIFAR-10 Batch 1:  Testing Loss: 1.9592959880828857\n",
      "Testing Accuracy: 0.3296000063419342\n",
      "Epoch  4, CIFAR-10 Batch 1:  Testing Loss: 1.972585916519165\n",
      "Testing Accuracy: 0.33719998598098755\n",
      "Epoch  5, CIFAR-10 Batch 1:  Testing Loss: 1.7792444229125977\n",
      "Testing Accuracy: 0.38739997148513794\n",
      "Epoch  6, CIFAR-10 Batch 1:  Testing Loss: 1.8625664710998535\n",
      "Testing Accuracy: 0.3775999844074249\n",
      "Epoch  7, CIFAR-10 Batch 1:  Testing Loss: 1.6864292621612549\n",
      "Testing Accuracy: 0.39619994163513184\n",
      "Epoch  8, CIFAR-10 Batch 1:  Testing Loss: 1.5950758457183838\n",
      "Testing Accuracy: 0.4111999571323395\n",
      "Epoch  9, CIFAR-10 Batch 1:  Testing Loss: 1.6704670190811157\n",
      "Testing Accuracy: 0.31859999895095825\n",
      "Epoch 10, CIFAR-10 Batch 1:  Testing Loss: 1.4844410419464111\n",
      "Testing Accuracy: 0.4379999339580536\n",
      "Epoch 11, CIFAR-10 Batch 1:  Testing Loss: 1.4265336990356445\n",
      "Testing Accuracy: 0.41419994831085205\n",
      "Epoch 12, CIFAR-10 Batch 1:  Testing Loss: 1.365736961364746\n",
      "Testing Accuracy: 0.4423999786376953\n",
      "Epoch 13, CIFAR-10 Batch 1:  Testing Loss: 1.351088523864746\n",
      "Testing Accuracy: 0.448199987411499\n",
      "Epoch 14, CIFAR-10 Batch 1:  Testing Loss: 1.3379331827163696\n",
      "Testing Accuracy: 0.46879997849464417\n",
      "Epoch 15, CIFAR-10 Batch 1:  Testing Loss: 1.1991792917251587\n",
      "Testing Accuracy: 0.46779996156692505\n",
      "Epoch 16, CIFAR-10 Batch 1:  Testing Loss: 1.2598440647125244\n",
      "Testing Accuracy: 0.4323999583721161\n",
      "Epoch 17, CIFAR-10 Batch 1:  Testing Loss: 1.1550471782684326\n",
      "Testing Accuracy: 0.4869999587535858\n",
      "Epoch 18, CIFAR-10 Batch 1:  Testing Loss: 1.1290570497512817\n",
      "Testing Accuracy: 0.48479992151260376\n",
      "Epoch 19, CIFAR-10 Batch 1:  Testing Loss: 1.0874502658843994\n",
      "Testing Accuracy: 0.4987999200820923\n",
      "Epoch 20, CIFAR-10 Batch 1:  Testing Loss: 1.0661835670471191\n",
      "Testing Accuracy: 0.4795999228954315\n",
      "Epoch 21, CIFAR-10 Batch 1:  Testing Loss: 1.0356531143188477\n",
      "Testing Accuracy: 0.4811999201774597\n",
      "Epoch 22, CIFAR-10 Batch 1:  Testing Loss: 0.9998741745948792\n",
      "Testing Accuracy: 0.46699994802474976\n",
      "Epoch 23, CIFAR-10 Batch 1:  Testing Loss: 0.9595353007316589\n",
      "Testing Accuracy: 0.47439998388290405\n",
      "Epoch 24, CIFAR-10 Batch 1:  Testing Loss: 0.8798998594284058\n",
      "Testing Accuracy: 0.5003999471664429\n",
      "Epoch 25, CIFAR-10 Batch 1:  Testing Loss: 0.8570308685302734\n",
      "Testing Accuracy: 0.47179996967315674\n",
      "Epoch 26, CIFAR-10 Batch 1:  Testing Loss: 0.8505061268806458\n",
      "Testing Accuracy: 0.5041999220848083\n",
      "Epoch 27, CIFAR-10 Batch 1:  Testing Loss: 0.8060216903686523\n",
      "Testing Accuracy: 0.49519994854927063\n",
      "Epoch 28, CIFAR-10 Batch 1:  Testing Loss: 0.7418242692947388\n",
      "Testing Accuracy: 0.49479997158050537\n",
      "Epoch 29, CIFAR-10 Batch 1:  Testing Loss: 0.7639064788818359\n",
      "Testing Accuracy: 0.49279987812042236\n",
      "Epoch 30, CIFAR-10 Batch 1:  Testing Loss: 0.7216887474060059\n",
      "Testing Accuracy: 0.4907999634742737\n",
      "Epoch 31, CIFAR-10 Batch 1:  Testing Loss: 0.6756935119628906\n",
      "Testing Accuracy: 0.5\n",
      "Epoch 32, CIFAR-10 Batch 1:  Testing Loss: 0.6742326021194458\n",
      "Testing Accuracy: 0.4957999587059021\n",
      "Epoch 33, CIFAR-10 Batch 1:  Testing Loss: 0.6474672555923462\n",
      "Testing Accuracy: 0.5099999308586121\n",
      "Epoch 34, CIFAR-10 Batch 1:  Testing Loss: 0.6433699131011963\n",
      "Testing Accuracy: 0.506399929523468\n",
      "Epoch 35, CIFAR-10 Batch 1:  Testing Loss: 0.6590628027915955\n",
      "Testing Accuracy: 0.519399881362915\n",
      "Epoch 36, CIFAR-10 Batch 1:  Testing Loss: 0.5516220927238464\n",
      "Testing Accuracy: 0.5231999158859253\n",
      "Epoch 37, CIFAR-10 Batch 1:  Testing Loss: 0.5292613506317139\n",
      "Testing Accuracy: 0.5079999566078186\n",
      "Epoch 38, CIFAR-10 Batch 1:  Testing Loss: 0.5048054456710815\n",
      "Testing Accuracy: 0.5233999490737915\n",
      "Epoch 39, CIFAR-10 Batch 1:  Testing Loss: 0.49003252387046814\n",
      "Testing Accuracy: 0.5175999402999878\n",
      "Epoch 40, CIFAR-10 Batch 1:  Testing Loss: 0.4232158362865448\n",
      "Testing Accuracy: 0.5283999443054199\n",
      "Epoch 41, CIFAR-10 Batch 1:  Testing Loss: 0.42134326696395874\n",
      "Testing Accuracy: 0.5311999320983887\n",
      "Epoch 42, CIFAR-10 Batch 1:  Testing Loss: 0.39577046036720276\n",
      "Testing Accuracy: 0.5329999923706055\n",
      "Epoch 43, CIFAR-10 Batch 1:  Testing Loss: 0.3855268359184265\n",
      "Testing Accuracy: 0.5245999693870544\n",
      "Epoch 44, CIFAR-10 Batch 1:  Testing Loss: 0.3265482783317566\n",
      "Testing Accuracy: 0.5321999192237854\n",
      "Epoch 45, CIFAR-10 Batch 1:  Testing Loss: 0.3360744118690491\n",
      "Testing Accuracy: 0.5239999294281006\n",
      "Epoch 46, CIFAR-10 Batch 1:  Testing Loss: 0.29693830013275146\n",
      "Testing Accuracy: 0.5369999408721924\n",
      "Epoch 47, CIFAR-10 Batch 1:  Testing Loss: 0.27163997292518616\n",
      "Testing Accuracy: 0.5349999666213989\n",
      "Epoch 48, CIFAR-10 Batch 1:  Testing Loss: 0.2406853437423706\n",
      "Testing Accuracy: 0.5317999720573425\n",
      "Epoch 49, CIFAR-10 Batch 1:  Testing Loss: 0.22874310612678528\n",
      "Testing Accuracy: 0.5387998819351196\n",
      "Epoch 50, CIFAR-10 Batch 1:  Testing Loss: 0.19872333109378815\n",
      "Testing Accuracy: 0.5299999117851257\n"
     ]
    }
   ],
   "source": [
    "\"\"\"\n",
    "DON'T MODIFY ANYTHING IN THIS CELL\n",
    "\"\"\"\n",
    "print('Checking the Training on a Single Batch...')\n",
    "with tf.Session() as sess:\n",
    "    # Initializing the variables\n",
    "    sess.run(tf.global_variables_initializer())\n",
    "    \n",
    "    # Training cycle\n",
    "    for epoch in range(epochs):\n",
    "        batch_i = 1\n",
    "        for batch_features, batch_labels in helper.load_preprocess_training_batch(batch_i, batch_size):\n",
    "            train_neural_network(sess, optimizer, keep_probability, batch_features, batch_labels)\n",
    "        print('Epoch {:>2}, CIFAR-10 Batch {}:  '.format(epoch + 1, batch_i), end='')\n",
    "        print_stats(sess, batch_features, batch_labels, cost, accuracy)\n",
    "        \n"
   ]
  },
  {
   "cell_type": "markdown",
   "metadata": {
    "deletable": true,
    "editable": true
   },
   "source": [
    "### Fully Train the Model\n",
    "Now that you got a good accuracy with a single CIFAR-10 batch, try it with all five batches."
   ]
  },
  {
   "cell_type": "code",
   "execution_count": 18,
   "metadata": {
    "collapsed": false,
    "deletable": true,
    "editable": true,
    "scrolled": false
   },
   "outputs": [
    {
     "name": "stdout",
     "output_type": "stream",
     "text": [
      "Training...\n",
      "Epoch  1, CIFAR-10 Batch 1:  Testing Loss: 2.3901724815368652\n",
      "Testing Accuracy: 0.2287999987602234\n",
      "Epoch  1, CIFAR-10 Batch 2:  Testing Loss: 1.932275414466858\n",
      "Testing Accuracy: 0.29079997539520264\n",
      "Epoch  1, CIFAR-10 Batch 3:  Testing Loss: 1.6694533824920654\n",
      "Testing Accuracy: 0.36419999599456787\n",
      "Epoch  1, CIFAR-10 Batch 4:  Testing Loss: 1.5574476718902588\n",
      "Testing Accuracy: 0.32819998264312744\n",
      "Epoch  1, CIFAR-10 Batch 5:  Testing Loss: 1.6995220184326172\n",
      "Testing Accuracy: 0.3815999925136566\n",
      "Epoch  2, CIFAR-10 Batch 1:  Testing Loss: 1.8787297010421753\n",
      "Testing Accuracy: 0.37439996004104614\n",
      "Epoch  2, CIFAR-10 Batch 2:  Testing Loss: 1.4561383724212646\n",
      "Testing Accuracy: 0.3959999978542328\n",
      "Epoch  2, CIFAR-10 Batch 3:  Testing Loss: 1.3557168245315552\n",
      "Testing Accuracy: 0.4471999406814575\n",
      "Epoch  2, CIFAR-10 Batch 4:  Testing Loss: 1.380028486251831\n",
      "Testing Accuracy: 0.4603999853134155\n",
      "Epoch  2, CIFAR-10 Batch 5:  Testing Loss: 1.4660277366638184\n",
      "Testing Accuracy: 0.4663999378681183\n",
      "Epoch  3, CIFAR-10 Batch 1:  Testing Loss: 1.543400764465332\n",
      "Testing Accuracy: 0.48379993438720703\n",
      "Epoch  3, CIFAR-10 Batch 2:  Testing Loss: 1.247528314590454\n",
      "Testing Accuracy: 0.4697999656200409\n",
      "Epoch  3, CIFAR-10 Batch 3:  Testing Loss: 1.4589259624481201\n",
      "Testing Accuracy: 0.46480000019073486\n",
      "Epoch  3, CIFAR-10 Batch 4:  Testing Loss: 1.2535480260849\n",
      "Testing Accuracy: 0.49359995126724243\n",
      "Epoch  3, CIFAR-10 Batch 5:  Testing Loss: 1.386165738105774\n",
      "Testing Accuracy: 0.5073999166488647\n",
      "Epoch  4, CIFAR-10 Batch 1:  Testing Loss: 1.4803969860076904\n",
      "Testing Accuracy: 0.49639996886253357\n",
      "Epoch  4, CIFAR-10 Batch 2:  Testing Loss: 1.2526012659072876\n",
      "Testing Accuracy: 0.4663999378681183\n",
      "Epoch  4, CIFAR-10 Batch 3:  Testing Loss: 1.194378137588501\n",
      "Testing Accuracy: 0.5189998745918274\n",
      "Epoch  4, CIFAR-10 Batch 4:  Testing Loss: 1.2343387603759766\n",
      "Testing Accuracy: 0.5427999496459961\n",
      "Epoch  4, CIFAR-10 Batch 5:  Testing Loss: 1.2544126510620117\n",
      "Testing Accuracy: 0.5303999185562134\n",
      "Epoch  5, CIFAR-10 Batch 1:  Testing Loss: 1.4674899578094482\n",
      "Testing Accuracy: 0.5051999092102051\n",
      "Epoch  5, CIFAR-10 Batch 2:  Testing Loss: 1.1909761428833008\n",
      "Testing Accuracy: 0.5043999552726746\n",
      "Epoch  5, CIFAR-10 Batch 3:  Testing Loss: 1.0078784227371216\n",
      "Testing Accuracy: 0.5507999062538147\n",
      "Epoch  5, CIFAR-10 Batch 4:  Testing Loss: 1.1585049629211426\n",
      "Testing Accuracy: 0.5407999157905579\n",
      "Epoch  5, CIFAR-10 Batch 5:  Testing Loss: 1.1653480529785156\n",
      "Testing Accuracy: 0.5577999353408813\n",
      "Epoch  6, CIFAR-10 Batch 1:  Testing Loss: 1.261072039604187\n",
      "Testing Accuracy: 0.5475999116897583\n",
      "Epoch  6, CIFAR-10 Batch 2:  Testing Loss: 1.0541467666625977\n",
      "Testing Accuracy: 0.5611999034881592\n",
      "Epoch  6, CIFAR-10 Batch 3:  Testing Loss: 0.9265834093093872\n",
      "Testing Accuracy: 0.5489999055862427\n",
      "Epoch  6, CIFAR-10 Batch 4:  Testing Loss: 0.9361616373062134\n",
      "Testing Accuracy: 0.5421999096870422\n",
      "Epoch  6, CIFAR-10 Batch 5:  Testing Loss: 1.1381125450134277\n",
      "Testing Accuracy: 0.548599898815155\n",
      "Epoch  7, CIFAR-10 Batch 1:  Testing Loss: 1.2224656343460083\n",
      "Testing Accuracy: 0.5625999569892883\n",
      "Epoch  7, CIFAR-10 Batch 2:  Testing Loss: 0.9877749681472778\n",
      "Testing Accuracy: 0.567599892616272\n",
      "Epoch  7, CIFAR-10 Batch 3:  Testing Loss: 0.8424638509750366\n",
      "Testing Accuracy: 0.574199914932251\n",
      "Epoch  7, CIFAR-10 Batch 4:  Testing Loss: 0.8967489004135132\n",
      "Testing Accuracy: 0.5679999589920044\n",
      "Epoch  7, CIFAR-10 Batch 5:  Testing Loss: 1.1002906560897827\n",
      "Testing Accuracy: 0.5633999705314636\n",
      "Epoch  8, CIFAR-10 Batch 1:  Testing Loss: 1.1288847923278809\n",
      "Testing Accuracy: 0.5817998647689819\n",
      "Epoch  8, CIFAR-10 Batch 2:  Testing Loss: 0.926653265953064\n",
      "Testing Accuracy: 0.5711999535560608\n",
      "Epoch  8, CIFAR-10 Batch 3:  Testing Loss: 0.7938055396080017\n",
      "Testing Accuracy: 0.5881998538970947\n",
      "Epoch  8, CIFAR-10 Batch 4:  Testing Loss: 0.853751540184021\n",
      "Testing Accuracy: 0.574199914932251\n",
      "Epoch  8, CIFAR-10 Batch 5:  Testing Loss: 0.9934502243995667\n",
      "Testing Accuracy: 0.5811998844146729\n",
      "Epoch  9, CIFAR-10 Batch 1:  Testing Loss: 1.0721999406814575\n",
      "Testing Accuracy: 0.5943999290466309\n",
      "Epoch  9, CIFAR-10 Batch 2:  Testing Loss: 0.8636450171470642\n",
      "Testing Accuracy: 0.5881999135017395\n",
      "Epoch  9, CIFAR-10 Batch 3:  Testing Loss: 0.7327002286911011\n",
      "Testing Accuracy: 0.5801998972892761\n",
      "Epoch  9, CIFAR-10 Batch 4:  Testing Loss: 0.7846155166625977\n",
      "Testing Accuracy: 0.5891999006271362\n",
      "Epoch  9, CIFAR-10 Batch 5:  Testing Loss: 1.018519401550293\n",
      "Testing Accuracy: 0.5863999128341675\n",
      "Epoch 10, CIFAR-10 Batch 1:  Testing Loss: 0.9994975924491882\n",
      "Testing Accuracy: 0.5953998565673828\n",
      "Epoch 10, CIFAR-10 Batch 2:  Testing Loss: 0.8157990574836731\n",
      "Testing Accuracy: 0.6023999452590942\n",
      "Epoch 10, CIFAR-10 Batch 3:  Testing Loss: 0.7162861227989197\n",
      "Testing Accuracy: 0.572399914264679\n",
      "Epoch 10, CIFAR-10 Batch 4:  Testing Loss: 0.7161442041397095\n",
      "Testing Accuracy: 0.6025999188423157\n",
      "Epoch 10, CIFAR-10 Batch 5:  Testing Loss: 0.891627311706543\n",
      "Testing Accuracy: 0.5981999039649963\n",
      "Epoch 11, CIFAR-10 Batch 1:  Testing Loss: 0.9511324763298035\n",
      "Testing Accuracy: 0.6061998605728149\n",
      "Epoch 11, CIFAR-10 Batch 2:  Testing Loss: 0.7326933741569519\n",
      "Testing Accuracy: 0.6125999093055725\n",
      "Epoch 11, CIFAR-10 Batch 3:  Testing Loss: 0.6691372394561768\n",
      "Testing Accuracy: 0.5701999068260193\n",
      "Epoch 11, CIFAR-10 Batch 4:  Testing Loss: 0.6846327185630798\n",
      "Testing Accuracy: 0.602199912071228\n",
      "Epoch 11, CIFAR-10 Batch 5:  Testing Loss: 0.8307138681411743\n",
      "Testing Accuracy: 0.6067999601364136\n",
      "Epoch 12, CIFAR-10 Batch 1:  Testing Loss: 0.8949795961380005\n",
      "Testing Accuracy: 0.5997999310493469\n",
      "Epoch 12, CIFAR-10 Batch 2:  Testing Loss: 0.7050541639328003\n",
      "Testing Accuracy: 0.596799910068512\n",
      "Epoch 12, CIFAR-10 Batch 3:  Testing Loss: 0.5810984373092651\n",
      "Testing Accuracy: 0.5995998978614807\n",
      "Epoch 12, CIFAR-10 Batch 4:  Testing Loss: 0.6716173887252808\n",
      "Testing Accuracy: 0.6023998856544495\n",
      "Epoch 12, CIFAR-10 Batch 5:  Testing Loss: 0.8216239213943481\n",
      "Testing Accuracy: 0.605199933052063\n",
      "Epoch 13, CIFAR-10 Batch 1:  Testing Loss: 0.8261821269989014\n",
      "Testing Accuracy: 0.6125999093055725\n",
      "Epoch 13, CIFAR-10 Batch 2:  Testing Loss: 0.6613496541976929\n",
      "Testing Accuracy: 0.6157998442649841\n",
      "Epoch 13, CIFAR-10 Batch 3:  Testing Loss: 0.4933083653450012\n",
      "Testing Accuracy: 0.6213999390602112\n",
      "Epoch 13, CIFAR-10 Batch 4:  Testing Loss: 0.5502408742904663\n",
      "Testing Accuracy: 0.6251999139785767\n",
      "Epoch 13, CIFAR-10 Batch 5:  Testing Loss: 0.7164490222930908\n",
      "Testing Accuracy: 0.6223999261856079\n",
      "Epoch 14, CIFAR-10 Batch 1:  Testing Loss: 0.6963099241256714\n",
      "Testing Accuracy: 0.6209999322891235\n",
      "Epoch 14, CIFAR-10 Batch 2:  Testing Loss: 0.6020263433456421\n",
      "Testing Accuracy: 0.6189999580383301\n",
      "Epoch 14, CIFAR-10 Batch 3:  Testing Loss: 0.49406734108924866\n",
      "Testing Accuracy: 0.6267998814582825\n",
      "Epoch 14, CIFAR-10 Batch 4:  Testing Loss: 0.4781460165977478\n",
      "Testing Accuracy: 0.6281998753547668\n",
      "Epoch 14, CIFAR-10 Batch 5:  Testing Loss: 0.6580270528793335\n",
      "Testing Accuracy: 0.6345999240875244\n",
      "Epoch 15, CIFAR-10 Batch 1:  Testing Loss: 0.6016858220100403\n",
      "Testing Accuracy: 0.624799907207489\n",
      "Epoch 15, CIFAR-10 Batch 2:  Testing Loss: 0.5262700319290161\n",
      "Testing Accuracy: 0.6307998895645142\n",
      "Epoch 15, CIFAR-10 Batch 3:  Testing Loss: 0.4730391204357147\n",
      "Testing Accuracy: 0.6335998773574829\n",
      "Epoch 15, CIFAR-10 Batch 4:  Testing Loss: 0.4976921081542969\n",
      "Testing Accuracy: 0.6339999437332153\n",
      "Epoch 15, CIFAR-10 Batch 5:  Testing Loss: 0.5579296350479126\n",
      "Testing Accuracy: 0.6355999112129211\n",
      "Epoch 16, CIFAR-10 Batch 1:  Testing Loss: 0.5459855794906616\n",
      "Testing Accuracy: 0.6367999315261841\n",
      "Epoch 16, CIFAR-10 Batch 2:  Testing Loss: 0.4789741337299347\n",
      "Testing Accuracy: 0.6307998895645142\n",
      "Epoch 16, CIFAR-10 Batch 3:  Testing Loss: 0.4344345033168793\n",
      "Testing Accuracy: 0.6347998976707458\n",
      "Epoch 16, CIFAR-10 Batch 4:  Testing Loss: 0.41795629262924194\n",
      "Testing Accuracy: 0.6301999092102051\n",
      "Epoch 16, CIFAR-10 Batch 5:  Testing Loss: 0.5050444006919861\n",
      "Testing Accuracy: 0.630599856376648\n",
      "Epoch 17, CIFAR-10 Batch 1:  Testing Loss: 0.503716230392456\n",
      "Testing Accuracy: 0.6375999450683594\n",
      "Epoch 17, CIFAR-10 Batch 2:  Testing Loss: 0.41548436880111694\n",
      "Testing Accuracy: 0.6395999193191528\n",
      "Epoch 17, CIFAR-10 Batch 3:  Testing Loss: 0.3420082926750183\n",
      "Testing Accuracy: 0.6329998970031738\n",
      "Epoch 17, CIFAR-10 Batch 4:  Testing Loss: 0.3542723059654236\n",
      "Testing Accuracy: 0.6393998861312866\n",
      "Epoch 17, CIFAR-10 Batch 5:  Testing Loss: 0.46248722076416016\n",
      "Testing Accuracy: 0.6331998705863953\n",
      "Epoch 18, CIFAR-10 Batch 1:  Testing Loss: 0.4430660307407379\n",
      "Testing Accuracy: 0.6209999322891235\n",
      "Epoch 18, CIFAR-10 Batch 2:  Testing Loss: 0.4101370573043823\n",
      "Testing Accuracy: 0.6327998638153076\n",
      "Epoch 18, CIFAR-10 Batch 3:  Testing Loss: 0.3163159191608429\n",
      "Testing Accuracy: 0.6397998929023743\n",
      "Epoch 18, CIFAR-10 Batch 4:  Testing Loss: 0.3075254559516907\n",
      "Testing Accuracy: 0.6323999166488647\n",
      "Epoch 18, CIFAR-10 Batch 5:  Testing Loss: 0.4204999506473541\n",
      "Testing Accuracy: 0.6391998529434204\n",
      "Epoch 19, CIFAR-10 Batch 1:  Testing Loss: 0.4133356809616089\n",
      "Testing Accuracy: 0.6393999457359314\n",
      "Epoch 19, CIFAR-10 Batch 2:  Testing Loss: 0.3423778712749481\n",
      "Testing Accuracy: 0.6373998522758484\n",
      "Epoch 19, CIFAR-10 Batch 3:  Testing Loss: 0.28682005405426025\n",
      "Testing Accuracy: 0.637799859046936\n",
      "Epoch 19, CIFAR-10 Batch 4:  Testing Loss: 0.3095855116844177\n",
      "Testing Accuracy: 0.6301999092102051\n",
      "Epoch 19, CIFAR-10 Batch 5:  Testing Loss: 0.32861435413360596\n",
      "Testing Accuracy: 0.6495998501777649\n",
      "Epoch 20, CIFAR-10 Batch 1:  Testing Loss: 0.29657918214797974\n",
      "Testing Accuracy: 0.6517999172210693\n",
      "Epoch 20, CIFAR-10 Batch 2:  Testing Loss: 0.3392934501171112\n",
      "Testing Accuracy: 0.6417998671531677\n",
      "Epoch 20, CIFAR-10 Batch 3:  Testing Loss: 0.25010162591934204\n",
      "Testing Accuracy: 0.6361998915672302\n",
      "Epoch 20, CIFAR-10 Batch 4:  Testing Loss: 0.24999602138996124\n",
      "Testing Accuracy: 0.6337999105453491\n",
      "Epoch 20, CIFAR-10 Batch 5:  Testing Loss: 0.30827128887176514\n",
      "Testing Accuracy: 0.6387999057769775\n",
      "Epoch 21, CIFAR-10 Batch 1:  Testing Loss: 0.28999558091163635\n",
      "Testing Accuracy: 0.6521998643875122\n",
      "Epoch 21, CIFAR-10 Batch 2:  Testing Loss: 0.21223042905330658\n",
      "Testing Accuracy: 0.6477999091148376\n",
      "Epoch 21, CIFAR-10 Batch 3:  Testing Loss: 0.2337493598461151\n",
      "Testing Accuracy: 0.6329998970031738\n",
      "Epoch 21, CIFAR-10 Batch 4:  Testing Loss: 0.18824854493141174\n",
      "Testing Accuracy: 0.6365998387336731\n",
      "Epoch 21, CIFAR-10 Batch 5:  Testing Loss: 0.2855784595012665\n",
      "Testing Accuracy: 0.6235998868942261\n",
      "Epoch 22, CIFAR-10 Batch 1:  Testing Loss: 0.2068825513124466\n",
      "Testing Accuracy: 0.6381999254226685\n",
      "Epoch 22, CIFAR-10 Batch 2:  Testing Loss: 0.2044641673564911\n",
      "Testing Accuracy: 0.6435998678207397\n",
      "Epoch 22, CIFAR-10 Batch 3:  Testing Loss: 0.19668635725975037\n",
      "Testing Accuracy: 0.6333999037742615\n",
      "Epoch 22, CIFAR-10 Batch 4:  Testing Loss: 0.1325620710849762\n",
      "Testing Accuracy: 0.6447998881340027\n",
      "Epoch 22, CIFAR-10 Batch 5:  Testing Loss: 0.24786105751991272\n",
      "Testing Accuracy: 0.6497999429702759\n",
      "Epoch 23, CIFAR-10 Batch 1:  Testing Loss: 0.1674705445766449\n",
      "Testing Accuracy: 0.6409999132156372\n",
      "Epoch 23, CIFAR-10 Batch 2:  Testing Loss: 0.21530771255493164\n",
      "Testing Accuracy: 0.6343998908996582\n",
      "Epoch 23, CIFAR-10 Batch 3:  Testing Loss: 0.1697283685207367\n",
      "Testing Accuracy: 0.6481999158859253\n",
      "Epoch 23, CIFAR-10 Batch 4:  Testing Loss: 0.16300253570079803\n",
      "Testing Accuracy: 0.6307998895645142\n",
      "Epoch 23, CIFAR-10 Batch 5:  Testing Loss: 0.22028595209121704\n",
      "Testing Accuracy: 0.6497998833656311\n",
      "Epoch 24, CIFAR-10 Batch 1:  Testing Loss: 0.15427440404891968\n",
      "Testing Accuracy: 0.6341999173164368\n",
      "Epoch 24, CIFAR-10 Batch 2:  Testing Loss: 0.17982615530490875\n",
      "Testing Accuracy: 0.6321998834609985\n",
      "Epoch 24, CIFAR-10 Batch 3:  Testing Loss: 0.1660122275352478\n",
      "Testing Accuracy: 0.6439998745918274\n",
      "Epoch 24, CIFAR-10 Batch 4:  Testing Loss: 0.12834124267101288\n",
      "Testing Accuracy: 0.6369999051094055\n",
      "Epoch 24, CIFAR-10 Batch 5:  Testing Loss: 0.19604554772377014\n",
      "Testing Accuracy: 0.6369999051094055\n",
      "Epoch 25, CIFAR-10 Batch 1:  Testing Loss: 0.14164935052394867\n",
      "Testing Accuracy: 0.6529999375343323\n",
      "Epoch 25, CIFAR-10 Batch 2:  Testing Loss: 0.12507595121860504\n",
      "Testing Accuracy: 0.6261999011039734\n",
      "Epoch 25, CIFAR-10 Batch 3:  Testing Loss: 0.15086893737316132\n",
      "Testing Accuracy: 0.6399998664855957\n",
      "Epoch 25, CIFAR-10 Batch 4:  Testing Loss: 0.12262547761201859\n",
      "Testing Accuracy: 0.6421998739242554\n",
      "Epoch 25, CIFAR-10 Batch 5:  Testing Loss: 0.1437211036682129\n",
      "Testing Accuracy: 0.6457998156547546\n",
      "Epoch 26, CIFAR-10 Batch 1:  Testing Loss: 0.113034687936306\n",
      "Testing Accuracy: 0.6489999294281006\n",
      "Epoch 26, CIFAR-10 Batch 2:  Testing Loss: 0.11882182955741882\n",
      "Testing Accuracy: 0.6363999247550964\n",
      "Epoch 26, CIFAR-10 Batch 3:  Testing Loss: 0.12282268702983856\n",
      "Testing Accuracy: 0.6429998874664307\n",
      "Epoch 26, CIFAR-10 Batch 4:  Testing Loss: 0.09379978477954865\n",
      "Testing Accuracy: 0.6409999132156372\n",
      "Epoch 26, CIFAR-10 Batch 5:  Testing Loss: 0.1353444755077362\n",
      "Testing Accuracy: 0.6403999328613281\n",
      "Epoch 27, CIFAR-10 Batch 1:  Testing Loss: 0.09515507519245148\n",
      "Testing Accuracy: 0.642599880695343\n",
      "Epoch 27, CIFAR-10 Batch 2:  Testing Loss: 0.09245255589485168\n",
      "Testing Accuracy: 0.6429998874664307\n",
      "Epoch 27, CIFAR-10 Batch 3:  Testing Loss: 0.08482875674962997\n",
      "Testing Accuracy: 0.6339999437332153\n",
      "Epoch 27, CIFAR-10 Batch 4:  Testing Loss: 0.1269441843032837\n",
      "Testing Accuracy: 0.6319999098777771\n",
      "Epoch 27, CIFAR-10 Batch 5:  Testing Loss: 0.12128884345293045\n",
      "Testing Accuracy: 0.6385999321937561\n",
      "Epoch 28, CIFAR-10 Batch 1:  Testing Loss: 0.09112486243247986\n",
      "Testing Accuracy: 0.6367998719215393\n",
      "Epoch 28, CIFAR-10 Batch 2:  Testing Loss: 0.07517269253730774\n",
      "Testing Accuracy: 0.6443999409675598\n",
      "Epoch 28, CIFAR-10 Batch 3:  Testing Loss: 0.070207878947258\n",
      "Testing Accuracy: 0.6299998760223389\n",
      "Epoch 28, CIFAR-10 Batch 4:  Testing Loss: 0.11153090745210648\n",
      "Testing Accuracy: 0.6233999133110046\n",
      "Epoch 28, CIFAR-10 Batch 5:  Testing Loss: 0.0787777304649353\n",
      "Testing Accuracy: 0.6441999077796936\n",
      "Epoch 29, CIFAR-10 Batch 1:  Testing Loss: 0.07614773511886597\n",
      "Testing Accuracy: 0.6241999268531799\n",
      "Epoch 29, CIFAR-10 Batch 2:  Testing Loss: 0.06387922167778015\n",
      "Testing Accuracy: 0.6425999402999878\n",
      "Epoch 29, CIFAR-10 Batch 3:  Testing Loss: 0.07335592806339264\n",
      "Testing Accuracy: 0.6405999064445496\n",
      "Epoch 29, CIFAR-10 Batch 4:  Testing Loss: 0.0562274344265461\n",
      "Testing Accuracy: 0.6405999064445496\n",
      "Epoch 29, CIFAR-10 Batch 5:  Testing Loss: 0.06529678404331207\n",
      "Testing Accuracy: 0.6409999132156372\n",
      "Epoch 30, CIFAR-10 Batch 1:  Testing Loss: 0.07419288158416748\n",
      "Testing Accuracy: 0.6229999661445618\n",
      "Epoch 30, CIFAR-10 Batch 2:  Testing Loss: 0.07385723292827606\n",
      "Testing Accuracy: 0.6373999118804932\n",
      "Epoch 30, CIFAR-10 Batch 3:  Testing Loss: 0.06101450324058533\n",
      "Testing Accuracy: 0.6395999193191528\n",
      "Epoch 30, CIFAR-10 Batch 4:  Testing Loss: 0.04778740182518959\n",
      "Testing Accuracy: 0.6441998481750488\n",
      "Epoch 30, CIFAR-10 Batch 5:  Testing Loss: 0.0869775041937828\n",
      "Testing Accuracy: 0.6359999179840088\n",
      "Epoch 31, CIFAR-10 Batch 1:  Testing Loss: 0.05953506380319595\n",
      "Testing Accuracy: 0.6283999085426331\n",
      "Epoch 31, CIFAR-10 Batch 2:  Testing Loss: 0.05528935790061951\n",
      "Testing Accuracy: 0.6375998258590698\n",
      "Epoch 31, CIFAR-10 Batch 3:  Testing Loss: 0.057773664593696594\n",
      "Testing Accuracy: 0.6215999126434326\n",
      "Epoch 31, CIFAR-10 Batch 4:  Testing Loss: 0.04834350198507309\n",
      "Testing Accuracy: 0.6429998874664307\n",
      "Epoch 31, CIFAR-10 Batch 5:  Testing Loss: 0.06417670100927353\n",
      "Testing Accuracy: 0.6449998617172241\n",
      "Epoch 32, CIFAR-10 Batch 1:  Testing Loss: 0.06924262642860413\n",
      "Testing Accuracy: 0.6001999378204346\n",
      "Epoch 32, CIFAR-10 Batch 2:  Testing Loss: 0.06349256634712219\n",
      "Testing Accuracy: 0.6273999214172363\n",
      "Epoch 32, CIFAR-10 Batch 3:  Testing Loss: 0.052063629031181335\n",
      "Testing Accuracy: 0.6143999099731445\n",
      "Epoch 32, CIFAR-10 Batch 4:  Testing Loss: 0.02642696350812912\n",
      "Testing Accuracy: 0.6451998949050903\n",
      "Epoch 32, CIFAR-10 Batch 5:  Testing Loss: 0.055753350257873535\n",
      "Testing Accuracy: 0.6351998448371887\n",
      "Epoch 33, CIFAR-10 Batch 1:  Testing Loss: 0.0467800498008728\n",
      "Testing Accuracy: 0.6175999045372009\n",
      "Epoch 33, CIFAR-10 Batch 2:  Testing Loss: 0.06027063727378845\n",
      "Testing Accuracy: 0.6213998794555664\n",
      "Epoch 33, CIFAR-10 Batch 3:  Testing Loss: 0.04267764091491699\n",
      "Testing Accuracy: 0.6049998998641968\n",
      "Epoch 33, CIFAR-10 Batch 4:  Testing Loss: 0.030190810561180115\n",
      "Testing Accuracy: 0.64739990234375\n",
      "Epoch 33, CIFAR-10 Batch 5:  Testing Loss: 0.06388485431671143\n",
      "Testing Accuracy: 0.6401999592781067\n",
      "Epoch 34, CIFAR-10 Batch 1:  Testing Loss: 0.02557148039340973\n",
      "Testing Accuracy: 0.6235998868942261\n",
      "Epoch 34, CIFAR-10 Batch 2:  Testing Loss: 0.04528677463531494\n",
      "Testing Accuracy: 0.6285999417304993\n",
      "Epoch 34, CIFAR-10 Batch 3:  Testing Loss: 0.030130738392472267\n",
      "Testing Accuracy: 0.6127999424934387\n",
      "Epoch 34, CIFAR-10 Batch 4:  Testing Loss: 0.018991801887750626\n",
      "Testing Accuracy: 0.6379998922348022\n",
      "Epoch 34, CIFAR-10 Batch 5:  Testing Loss: 0.0435226745903492\n",
      "Testing Accuracy: 0.631399929523468\n",
      "Epoch 35, CIFAR-10 Batch 1:  Testing Loss: 0.035179734230041504\n",
      "Testing Accuracy: 0.6309998631477356\n",
      "Epoch 35, CIFAR-10 Batch 2:  Testing Loss: 0.05227524787187576\n",
      "Testing Accuracy: 0.6231999397277832\n",
      "Epoch 35, CIFAR-10 Batch 3:  Testing Loss: 0.03627930209040642\n",
      "Testing Accuracy: 0.6329999566078186\n",
      "Epoch 35, CIFAR-10 Batch 4:  Testing Loss: 0.02161438763141632\n",
      "Testing Accuracy: 0.6359999179840088\n",
      "Epoch 35, CIFAR-10 Batch 5:  Testing Loss: 0.03746624290943146\n",
      "Testing Accuracy: 0.6413999199867249\n",
      "Epoch 36, CIFAR-10 Batch 1:  Testing Loss: 0.026975341141223907\n",
      "Testing Accuracy: 0.6349998712539673\n",
      "Epoch 36, CIFAR-10 Batch 2:  Testing Loss: 0.02968645468354225\n",
      "Testing Accuracy: 0.6307998895645142\n",
      "Epoch 36, CIFAR-10 Batch 3:  Testing Loss: 0.039600469172000885\n",
      "Testing Accuracy: 0.6371999382972717\n",
      "Epoch 36, CIFAR-10 Batch 4:  Testing Loss: 0.022894246503710747\n",
      "Testing Accuracy: 0.6317999362945557\n",
      "Epoch 36, CIFAR-10 Batch 5:  Testing Loss: 0.032922036945819855\n",
      "Testing Accuracy: 0.6421999335289001\n",
      "Epoch 37, CIFAR-10 Batch 1:  Testing Loss: 0.016220223158597946\n",
      "Testing Accuracy: 0.6355999112129211\n",
      "Epoch 37, CIFAR-10 Batch 2:  Testing Loss: 0.024041160941123962\n",
      "Testing Accuracy: 0.6297999024391174\n",
      "Epoch 37, CIFAR-10 Batch 3:  Testing Loss: 0.065210722386837\n",
      "Testing Accuracy: 0.6307998895645142\n",
      "Epoch 37, CIFAR-10 Batch 4:  Testing Loss: 0.023023877292871475\n",
      "Testing Accuracy: 0.6327999830245972\n",
      "Epoch 37, CIFAR-10 Batch 5:  Testing Loss: 0.02917642518877983\n",
      "Testing Accuracy: 0.6339999437332153\n",
      "Epoch 38, CIFAR-10 Batch 1:  Testing Loss: 0.019986115396022797\n",
      "Testing Accuracy: 0.6357998847961426\n",
      "Epoch 38, CIFAR-10 Batch 2:  Testing Loss: 0.021668823435902596\n",
      "Testing Accuracy: 0.63319993019104\n",
      "Epoch 38, CIFAR-10 Batch 3:  Testing Loss: 0.027951262891292572\n",
      "Testing Accuracy: 0.6267998814582825\n",
      "Epoch 38, CIFAR-10 Batch 4:  Testing Loss: 0.00972883589565754\n",
      "Testing Accuracy: 0.6337999105453491\n",
      "Epoch 38, CIFAR-10 Batch 5:  Testing Loss: 0.029556304216384888\n",
      "Testing Accuracy: 0.6411998867988586\n",
      "Epoch 39, CIFAR-10 Batch 1:  Testing Loss: 0.01762263849377632\n",
      "Testing Accuracy: 0.6297998428344727\n",
      "Epoch 39, CIFAR-10 Batch 2:  Testing Loss: 0.01887553557753563\n",
      "Testing Accuracy: 0.6231998801231384\n",
      "Epoch 39, CIFAR-10 Batch 3:  Testing Loss: 0.010527189821004868\n",
      "Testing Accuracy: 0.6431999206542969\n",
      "Epoch 39, CIFAR-10 Batch 4:  Testing Loss: 0.007063077762722969\n",
      "Testing Accuracy: 0.6369999051094055\n",
      "Epoch 39, CIFAR-10 Batch 5:  Testing Loss: 0.0185844786465168\n",
      "Testing Accuracy: 0.6427998542785645\n",
      "Epoch 40, CIFAR-10 Batch 1:  Testing Loss: 0.025171946734189987\n",
      "Testing Accuracy: 0.6329998970031738\n",
      "Epoch 40, CIFAR-10 Batch 2:  Testing Loss: 0.016454368829727173\n",
      "Testing Accuracy: 0.6227998733520508\n",
      "Epoch 40, CIFAR-10 Batch 3:  Testing Loss: 0.015145267359912395\n",
      "Testing Accuracy: 0.6337999105453491\n",
      "Epoch 40, CIFAR-10 Batch 4:  Testing Loss: 0.0036411923356354237\n",
      "Testing Accuracy: 0.6355999708175659\n",
      "Epoch 40, CIFAR-10 Batch 5:  Testing Loss: 0.022960985079407692\n",
      "Testing Accuracy: 0.6305999159812927\n",
      "Epoch 41, CIFAR-10 Batch 1:  Testing Loss: 0.033946529030799866\n",
      "Testing Accuracy: 0.629599928855896\n",
      "Epoch 41, CIFAR-10 Batch 2:  Testing Loss: 0.022043712437152863\n",
      "Testing Accuracy: 0.622999906539917\n",
      "Epoch 41, CIFAR-10 Batch 3:  Testing Loss: 0.01734895631670952\n",
      "Testing Accuracy: 0.6275998950004578\n",
      "Epoch 41, CIFAR-10 Batch 4:  Testing Loss: 0.004600527696311474\n",
      "Testing Accuracy: 0.6189998984336853\n",
      "Epoch 41, CIFAR-10 Batch 5:  Testing Loss: 0.03214705362915993\n",
      "Testing Accuracy: 0.6201999187469482\n",
      "Epoch 42, CIFAR-10 Batch 1:  Testing Loss: 0.015373184345662594\n",
      "Testing Accuracy: 0.6369999647140503\n",
      "Epoch 42, CIFAR-10 Batch 2:  Testing Loss: 0.007073789834976196\n",
      "Testing Accuracy: 0.6275998950004578\n",
      "Epoch 42, CIFAR-10 Batch 3:  Testing Loss: 0.012460162863135338\n",
      "Testing Accuracy: 0.6239998936653137\n",
      "Epoch 42, CIFAR-10 Batch 4:  Testing Loss: 0.006306342780590057\n",
      "Testing Accuracy: 0.6177999377250671\n",
      "Epoch 42, CIFAR-10 Batch 5:  Testing Loss: 0.020049164071679115\n",
      "Testing Accuracy: 0.6359999179840088\n",
      "Epoch 43, CIFAR-10 Batch 1:  Testing Loss: 0.014970984309911728\n",
      "Testing Accuracy: 0.6341999173164368\n",
      "Epoch 43, CIFAR-10 Batch 2:  Testing Loss: 0.007671699859201908\n",
      "Testing Accuracy: 0.6069998741149902\n",
      "Epoch 43, CIFAR-10 Batch 3:  Testing Loss: 0.010581882670521736\n",
      "Testing Accuracy: 0.6181998252868652\n",
      "Epoch 43, CIFAR-10 Batch 4:  Testing Loss: 0.0033287410624325275\n",
      "Testing Accuracy: 0.61819988489151\n",
      "Epoch 43, CIFAR-10 Batch 5:  Testing Loss: 0.010328017175197601\n",
      "Testing Accuracy: 0.6235998868942261\n",
      "Epoch 44, CIFAR-10 Batch 1:  Testing Loss: 0.01201548520475626\n",
      "Testing Accuracy: 0.6239999532699585\n",
      "Epoch 44, CIFAR-10 Batch 2:  Testing Loss: 0.005728591699153185\n",
      "Testing Accuracy: 0.6183999180793762\n",
      "Epoch 44, CIFAR-10 Batch 3:  Testing Loss: 0.00870608165860176\n",
      "Testing Accuracy: 0.6333998441696167\n",
      "Epoch 44, CIFAR-10 Batch 4:  Testing Loss: 0.0037662582471966743\n",
      "Testing Accuracy: 0.6227999329566956\n",
      "Epoch 44, CIFAR-10 Batch 5:  Testing Loss: 0.015147456899285316\n",
      "Testing Accuracy: 0.6293998956680298\n",
      "Epoch 45, CIFAR-10 Batch 1:  Testing Loss: 0.005483617540448904\n",
      "Testing Accuracy: 0.6343998908996582\n",
      "Epoch 45, CIFAR-10 Batch 2:  Testing Loss: 0.0100887855514884\n",
      "Testing Accuracy: 0.5949999094009399\n",
      "Epoch 45, CIFAR-10 Batch 3:  Testing Loss: 0.008700964041054249\n",
      "Testing Accuracy: 0.6223999261856079\n",
      "Epoch 45, CIFAR-10 Batch 4:  Testing Loss: 0.004647410940378904\n",
      "Testing Accuracy: 0.6125999093055725\n",
      "Epoch 45, CIFAR-10 Batch 5:  Testing Loss: 0.009755278937518597\n",
      "Testing Accuracy: 0.6283999085426331\n",
      "Epoch 46, CIFAR-10 Batch 1:  Testing Loss: 0.012299355119466782\n",
      "Testing Accuracy: 0.6251999139785767\n",
      "Epoch 46, CIFAR-10 Batch 2:  Testing Loss: 0.008995930664241314\n",
      "Testing Accuracy: 0.602199912071228\n",
      "Epoch 46, CIFAR-10 Batch 3:  Testing Loss: 0.011539717204868793\n",
      "Testing Accuracy: 0.6289998888969421\n",
      "Epoch 46, CIFAR-10 Batch 4:  Testing Loss: 0.007654414512217045\n",
      "Testing Accuracy: 0.6235999464988708\n",
      "Epoch 46, CIFAR-10 Batch 5:  Testing Loss: 0.005476614460349083\n",
      "Testing Accuracy: 0.6309999227523804\n",
      "Epoch 47, CIFAR-10 Batch 1:  Testing Loss: 0.0051535083912312984\n",
      "Testing Accuracy: 0.6255999207496643\n",
      "Epoch 47, CIFAR-10 Batch 2:  Testing Loss: 0.004108263645321131\n",
      "Testing Accuracy: 0.6149998903274536\n",
      "Epoch 47, CIFAR-10 Batch 3:  Testing Loss: 0.008215497247874737\n",
      "Testing Accuracy: 0.6331998705863953\n",
      "Epoch 47, CIFAR-10 Batch 4:  Testing Loss: 0.003778166137635708\n",
      "Testing Accuracy: 0.6257998943328857\n",
      "Epoch 47, CIFAR-10 Batch 5:  Testing Loss: 0.011260801926255226\n",
      "Testing Accuracy: 0.6399999260902405\n",
      "Epoch 48, CIFAR-10 Batch 1:  Testing Loss: 0.0075110760517418385\n",
      "Testing Accuracy: 0.6321999430656433\n",
      "Epoch 48, CIFAR-10 Batch 2:  Testing Loss: 0.007324520032852888\n",
      "Testing Accuracy: 0.614599883556366\n",
      "Epoch 48, CIFAR-10 Batch 3:  Testing Loss: 0.007049452979117632\n",
      "Testing Accuracy: 0.6325998902320862\n",
      "Epoch 48, CIFAR-10 Batch 4:  Testing Loss: 0.0023847571574151516\n",
      "Testing Accuracy: 0.6333998441696167\n",
      "Epoch 48, CIFAR-10 Batch 5:  Testing Loss: 0.0031607388518750668\n",
      "Testing Accuracy: 0.6429998278617859\n",
      "Epoch 49, CIFAR-10 Batch 1:  Testing Loss: 0.0028124037198722363\n",
      "Testing Accuracy: 0.6261999011039734\n",
      "Epoch 49, CIFAR-10 Batch 2:  Testing Loss: 0.0028018627781420946\n",
      "Testing Accuracy: 0.6369998455047607\n",
      "Epoch 49, CIFAR-10 Batch 3:  Testing Loss: 0.009007910266518593\n",
      "Testing Accuracy: 0.629599928855896\n",
      "Epoch 49, CIFAR-10 Batch 4:  Testing Loss: 0.005198131315410137\n",
      "Testing Accuracy: 0.6283998489379883\n",
      "Epoch 49, CIFAR-10 Batch 5:  Testing Loss: 0.001765672815963626\n",
      "Testing Accuracy: 0.6381999254226685\n",
      "Epoch 50, CIFAR-10 Batch 1:  Testing Loss: 0.003730998607352376\n",
      "Testing Accuracy: 0.634199857711792\n",
      "Epoch 50, CIFAR-10 Batch 2:  Testing Loss: 0.003315349342301488\n",
      "Testing Accuracy: 0.6337999105453491\n",
      "Epoch 50, CIFAR-10 Batch 3:  Testing Loss: 0.0047811102122068405\n",
      "Testing Accuracy: 0.6367998719215393\n",
      "Epoch 50, CIFAR-10 Batch 4:  Testing Loss: 0.0035459345672279596\n",
      "Testing Accuracy: 0.6251999139785767\n",
      "Epoch 50, CIFAR-10 Batch 5:  Testing Loss: 0.004243374336510897\n",
      "Testing Accuracy: 0.635999858379364\n"
     ]
    }
   ],
   "source": [
    "\"\"\"\n",
    "DON'T MODIFY ANYTHING IN THIS CELL\n",
    "\"\"\"\n",
    "save_model_path = './image_classification'\n",
    "\n",
    "print('Training...')\n",
    "with tf.Session() as sess:\n",
    "    # Initializing the variables\n",
    "    sess.run(tf.global_variables_initializer())\n",
    "    \n",
    "    # Training cycle\n",
    "    for epoch in range(epochs):\n",
    "        # Loop over all batches\n",
    "        n_batches = 5\n",
    "        for batch_i in range(1, n_batches + 1):\n",
    "            for batch_features, batch_labels in helper.load_preprocess_training_batch(batch_i, batch_size):\n",
    "                train_neural_network(sess, optimizer, keep_probability, batch_features, batch_labels)\n",
    "            print('Epoch {:>2}, CIFAR-10 Batch {}:  '.format(epoch + 1, batch_i), end='')\n",
    "            print_stats(sess, batch_features, batch_labels, cost, accuracy)\n",
    "            \n",
    "    # Save Model\n",
    "    saver = tf.train.Saver()\n",
    "    save_path = saver.save(sess, save_model_path)"
   ]
  },
  {
   "cell_type": "markdown",
   "metadata": {
    "deletable": true,
    "editable": true
   },
   "source": [
    "# Checkpoint\n",
    "The model has been saved to disk.\n",
    "## Test Model\n",
    "Test your model against the test dataset.  This will be your final accuracy. You should have an accuracy greater than 50%. If you don't, keep tweaking the model architecture and parameters."
   ]
  },
  {
   "cell_type": "code",
   "execution_count": 19,
   "metadata": {
    "collapsed": false,
    "deletable": true,
    "editable": true
   },
   "outputs": [
    {
     "name": "stdout",
     "output_type": "stream",
     "text": [
      "Testing Accuracy: 0.6400316455696202\n",
      "\n"
     ]
    },
    {
     "data": {
      "image/png": "[encoded data removed]",
      "text/plain": [
       "<matplotlib.figure.Figure at 0x7f677eca1e80>"
      ]
     },
     "metadata": {
      "image/png": {
       "height": 319,
       "width": 355
      }
     },
     "output_type": "display_data"
    }
   ],
   "source": [
    "\"\"\"\n",
    "DON'T MODIFY ANYTHING IN THIS CELL\n",
    "\"\"\"\n",
    "%matplotlib inline\n",
    "%config InlineBackend.figure_format = 'retina'\n",
    "\n",
    "import tensorflow as tf\n",
    "import pickle\n",
    "import helper\n",
    "import random\n",
    "\n",
    "# Set batch size if not already set\n",
    "try:\n",
    "    if batch_size:\n",
    "        pass\n",
    "except NameError:\n",
    "    batch_size = 64\n",
    "\n",
    "save_model_path = './image_classification'\n",
    "n_samples = 4\n",
    "top_n_predictions = 3\n",
    "\n",
    "def test_model():\n",
    "    \"\"\"\n",
    "    Test the saved model against the test dataset\n",
    "    \"\"\"\n",
    "\n",
    "    test_features, test_labels = pickle.load(open('preprocess_training.p', mode='rb'))\n",
    "    loaded_graph = tf.Graph()\n",
    "\n",
    "    with tf.Session(graph=loaded_graph) as sess:\n",
    "        # Load model\n",
    "        loader = tf.train.import_meta_graph(save_model_path + '.meta')\n",
    "        loader.restore(sess, save_model_path)\n",
    "\n",
    "        # Get Tensors from loaded model\n",
    "        loaded_x = loaded_graph.get_tensor_by_name('x:0')\n",
    "        loaded_y = loaded_graph.get_tensor_by_name('y:0')\n",
    "        loaded_keep_prob = loaded_graph.get_tensor_by_name('keep_prob:0')\n",
    "        loaded_logits = loaded_graph.get_tensor_by_name('logits:0')\n",
    "        loaded_acc = loaded_graph.get_tensor_by_name('accuracy:0')\n",
    "        \n",
    "        # Get accuracy in batches for memory limitations\n",
    "        test_batch_acc_total = 0\n",
    "        test_batch_count = 0\n",
    "        \n",
    "        for train_feature_batch, train_label_batch in helper.batch_features_labels(test_features, test_labels, batch_size):\n",
    "            test_batch_acc_total += sess.run(\n",
    "                loaded_acc,\n",
    "                feed_dict={loaded_x: train_feature_batch, loaded_y: train_label_batch, loaded_keep_prob: 1.0})\n",
    "            test_batch_count += 1\n",
    "\n",
    "        print('Testing Accuracy: {}\\n'.format(test_batch_acc_total/test_batch_count))\n",
    "\n",
    "        # Print Random Samples\n",
    "        random_test_features, random_test_labels = tuple(zip(*random.sample(list(zip(test_features, test_labels)), n_samples)))\n",
    "        random_test_predictions = sess.run(\n",
    "            tf.nn.top_k(tf.nn.softmax(loaded_logits), top_n_predictions),\n",
    "            feed_dict={loaded_x: random_test_features, loaded_y: random_test_labels, loaded_keep_prob: 1.0})\n",
    "        helper.display_image_predictions(random_test_features, random_test_labels, random_test_predictions)\n",
    "\n",
    "\n",
    "test_model()"
   ]
  },
  {
   "cell_type": "markdown",
   "metadata": {
    "deletable": true,
    "editable": true
   },
   "source": [
    "## Why 50-70% Accuracy?\n",
    "You might be wondering why you can't get an accuracy any higher. First things first, 50% isn't bad for a simple CNN.  Pure guessing would get you 10% accuracy. However, you might notice people are getting scores [well above 70%](http://rodrigob.github.io/are_we_there_yet/build/classification_datasets_results.html#43494641522d3130).  That's because we haven't taught you all there is to know about neural networks. We still need to cover a few more techniques.\n",
    "## Submitting This Project\n",
    "When submitting this project, make sure to run all the cells before saving the notebook.  Save the notebook file as \"dlnd_image_classification.ipynb\" and save it as a HTML file under \"File\" -> \"Download as\".  Include the \"helper.py\" and \"problem_unittests.py\" files in your submission."
   ]
  },
  {
   "cell_type": "code",
   "execution_count": null,
   "metadata": {
    "collapsed": true
   },
   "outputs": [],
   "source": []
  }
 ],
 "metadata": {
  "anaconda-cloud": {},
  "kernelspec": {
   "display_name": "Python [conda env:dl]",
   "language": "python",
   "name": "conda-env-dl-py"
  },
  "language_info": {
   "codemirror_mode": {
    "name": "ipython",
    "version": 3
   },
   "file_extension": ".py",
   "mimetype": "text/x-python",
   "name": "python",
   "nbconvert_exporter": "python",
   "pygments_lexer": "ipython3",
   "version": "3.5.2"
  }
 },
 "nbformat": 4,
 "nbformat_minor": 0
}
